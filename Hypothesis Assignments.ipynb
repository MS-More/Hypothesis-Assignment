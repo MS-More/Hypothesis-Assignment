{
 "cells": [
  {
   "cell_type": "markdown",
   "id": "5f0e360c",
   "metadata": {},
   "source": [
    "# Hypothesis Testing Exercise"
   ]
  },
  {
   "cell_type": "markdown",
   "id": "5428079e",
   "metadata": {},
   "source": [
    "[cutlets.csv]\n",
    "A F&B manager wants to determine whether there is any significant difference in the diameter of the cutlet between two units. A randomly selected sample of cutlets was collected from both units and measured? Analyze the data and draw inferences at 5% significance level. Please state the assumptions and tests that you carried out to check validity of the assumptions."
   ]
  },
  {
   "cell_type": "code",
   "execution_count": 18,
   "id": "a8afc618",
   "metadata": {
    "ExecuteTime": {
     "end_time": "2023-02-07T15:09:42.039752Z",
     "start_time": "2023-02-07T15:09:42.026583Z"
    }
   },
   "outputs": [],
   "source": [
    "import scipy.stats as stats\n",
    "import statsmodels.api as sm\n",
    "import numpy as np\n",
    "import pandas as pd\n",
    "import warnings\n",
    "warnings.filterwarnings(\"ignore\")\n"
   ]
  },
  {
   "cell_type": "code",
   "execution_count": 19,
   "id": "be47ffe6",
   "metadata": {
    "ExecuteTime": {
     "end_time": "2023-02-07T15:09:44.650486Z",
     "start_time": "2023-02-07T15:09:44.624555Z"
    }
   },
   "outputs": [
    {
     "data": {
      "text/html": [
       "<div>\n",
       "<style scoped>\n",
       "    .dataframe tbody tr th:only-of-type {\n",
       "        vertical-align: middle;\n",
       "    }\n",
       "\n",
       "    .dataframe tbody tr th {\n",
       "        vertical-align: top;\n",
       "    }\n",
       "\n",
       "    .dataframe thead th {\n",
       "        text-align: right;\n",
       "    }\n",
       "</style>\n",
       "<table border=\"1\" class=\"dataframe\">\n",
       "  <thead>\n",
       "    <tr style=\"text-align: right;\">\n",
       "      <th></th>\n",
       "      <th>Unit A</th>\n",
       "      <th>Unit B</th>\n",
       "    </tr>\n",
       "  </thead>\n",
       "  <tbody>\n",
       "    <tr>\n",
       "      <th>0</th>\n",
       "      <td>6.8090</td>\n",
       "      <td>6.7703</td>\n",
       "    </tr>\n",
       "    <tr>\n",
       "      <th>1</th>\n",
       "      <td>6.4376</td>\n",
       "      <td>7.5093</td>\n",
       "    </tr>\n",
       "    <tr>\n",
       "      <th>2</th>\n",
       "      <td>6.9157</td>\n",
       "      <td>6.7300</td>\n",
       "    </tr>\n",
       "    <tr>\n",
       "      <th>3</th>\n",
       "      <td>7.3012</td>\n",
       "      <td>6.7878</td>\n",
       "    </tr>\n",
       "    <tr>\n",
       "      <th>4</th>\n",
       "      <td>7.4488</td>\n",
       "      <td>7.1522</td>\n",
       "    </tr>\n",
       "  </tbody>\n",
       "</table>\n",
       "</div>"
      ],
      "text/plain": [
       "   Unit A  Unit B\n",
       "0  6.8090  6.7703\n",
       "1  6.4376  7.5093\n",
       "2  6.9157  6.7300\n",
       "3  7.3012  6.7878\n",
       "4  7.4488  7.1522"
      ]
     },
     "execution_count": 19,
     "metadata": {},
     "output_type": "execute_result"
    }
   ],
   "source": [
    "data=pd.read_csv(r\"C:\\Users\\MS_More\\Desktop\\Data Science\\Materials\\A3\\cutlets.csv\")\n",
    "data.head()\n"
   ]
  },
  {
   "cell_type": "code",
   "execution_count": 20,
   "id": "b02690f1",
   "metadata": {
    "ExecuteTime": {
     "end_time": "2023-02-07T15:09:47.553860Z",
     "start_time": "2023-02-07T15:09:47.519095Z"
    }
   },
   "outputs": [
    {
     "data": {
      "text/html": [
       "<div>\n",
       "<style scoped>\n",
       "    .dataframe tbody tr th:only-of-type {\n",
       "        vertical-align: middle;\n",
       "    }\n",
       "\n",
       "    .dataframe tbody tr th {\n",
       "        vertical-align: top;\n",
       "    }\n",
       "\n",
       "    .dataframe thead th {\n",
       "        text-align: right;\n",
       "    }\n",
       "</style>\n",
       "<table border=\"1\" class=\"dataframe\">\n",
       "  <thead>\n",
       "    <tr style=\"text-align: right;\">\n",
       "      <th></th>\n",
       "      <th>Unit A</th>\n",
       "      <th>Unit B</th>\n",
       "    </tr>\n",
       "  </thead>\n",
       "  <tbody>\n",
       "    <tr>\n",
       "      <th>count</th>\n",
       "      <td>35.000000</td>\n",
       "      <td>35.000000</td>\n",
       "    </tr>\n",
       "    <tr>\n",
       "      <th>mean</th>\n",
       "      <td>7.019091</td>\n",
       "      <td>6.964297</td>\n",
       "    </tr>\n",
       "    <tr>\n",
       "      <th>std</th>\n",
       "      <td>0.288408</td>\n",
       "      <td>0.343401</td>\n",
       "    </tr>\n",
       "    <tr>\n",
       "      <th>min</th>\n",
       "      <td>6.437600</td>\n",
       "      <td>6.038000</td>\n",
       "    </tr>\n",
       "    <tr>\n",
       "      <th>25%</th>\n",
       "      <td>6.831500</td>\n",
       "      <td>6.753600</td>\n",
       "    </tr>\n",
       "    <tr>\n",
       "      <th>50%</th>\n",
       "      <td>6.943800</td>\n",
       "      <td>6.939900</td>\n",
       "    </tr>\n",
       "    <tr>\n",
       "      <th>75%</th>\n",
       "      <td>7.280550</td>\n",
       "      <td>7.195000</td>\n",
       "    </tr>\n",
       "    <tr>\n",
       "      <th>max</th>\n",
       "      <td>7.516900</td>\n",
       "      <td>7.545900</td>\n",
       "    </tr>\n",
       "  </tbody>\n",
       "</table>\n",
       "</div>"
      ],
      "text/plain": [
       "          Unit A     Unit B\n",
       "count  35.000000  35.000000\n",
       "mean    7.019091   6.964297\n",
       "std     0.288408   0.343401\n",
       "min     6.437600   6.038000\n",
       "25%     6.831500   6.753600\n",
       "50%     6.943800   6.939900\n",
       "75%     7.280550   7.195000\n",
       "max     7.516900   7.545900"
      ]
     },
     "execution_count": 20,
     "metadata": {},
     "output_type": "execute_result"
    }
   ],
   "source": [
    "data.describe()"
   ]
  },
  {
   "cell_type": "code",
   "execution_count": 21,
   "id": "68c508a4",
   "metadata": {
    "ExecuteTime": {
     "end_time": "2023-02-07T15:09:51.521021Z",
     "start_time": "2023-02-07T15:09:51.505072Z"
    }
   },
   "outputs": [
    {
     "data": {
      "text/plain": [
       "(35, 2)"
      ]
     },
     "execution_count": 21,
     "metadata": {},
     "output_type": "execute_result"
    }
   ],
   "source": [
    "data.shape"
   ]
  },
  {
   "cell_type": "code",
   "execution_count": 22,
   "id": "7201f71e",
   "metadata": {
    "ExecuteTime": {
     "end_time": "2023-02-07T15:09:54.819227Z",
     "start_time": "2023-02-07T15:09:54.807365Z"
    }
   },
   "outputs": [
    {
     "data": {
      "text/plain": [
       "Unit A    0\n",
       "Unit B    0\n",
       "dtype: int64"
      ]
     },
     "execution_count": 22,
     "metadata": {},
     "output_type": "execute_result"
    }
   ],
   "source": [
    "data.isnull().sum()"
   ]
  },
  {
   "cell_type": "code",
   "execution_count": 23,
   "id": "3f0708d9",
   "metadata": {
    "ExecuteTime": {
     "end_time": "2023-02-07T15:09:56.778237Z",
     "start_time": "2023-02-07T15:09:56.765945Z"
    }
   },
   "outputs": [],
   "source": [
    "unit_A=data['Unit A']\n",
    "Unit_B=data['Unit B']"
   ]
  },
  {
   "cell_type": "code",
   "execution_count": 24,
   "id": "246edc7b",
   "metadata": {
    "ExecuteTime": {
     "end_time": "2023-02-07T15:10:00.273908Z",
     "start_time": "2023-02-07T15:10:00.089403Z"
    }
   },
   "outputs": [
    {
     "name": "stdout",
     "output_type": "stream",
     "text": [
      "p-value= 0.4722394724599501\n"
     ]
    }
   ],
   "source": [
    "statistic , p_value = stats.ttest_ind(data['Unit A'],data['Unit B'],alternative= 'two-sided')\n",
    "print('p-value=',p_value)"
   ]
  },
  {
   "cell_type": "code",
   "execution_count": 25,
   "id": "62c44bd2",
   "metadata": {
    "ExecuteTime": {
     "end_time": "2023-02-07T15:10:28.094840Z",
     "start_time": "2023-02-07T15:10:28.051831Z"
    }
   },
   "outputs": [
    {
     "name": "stdout",
     "output_type": "stream",
     "text": [
      "Significnace=0.025, p=0.472\n",
      "We fail to reject Null hypothesis\n"
     ]
    }
   ],
   "source": [
    "alpha = 0.025\n",
    "print('Significnace=%.3f, p=%.3f' % (alpha, p_value))\n",
    "if p_value <= alpha:\n",
    "    print('we reject Null Hypothesis there is a significance difference between two Unit A and Unit B')\n",
    "else:\n",
    "    print('We fail to reject Null hypothesis')"
   ]
  },
  {
   "cell_type": "code",
   "execution_count": null,
   "id": "dd20e288",
   "metadata": {},
   "outputs": [],
   "source": [
    "[labtat.csv]\n",
    "A hospital wants to determine whether there is any difference in the average Turn Around Time (TAT)\n",
    "of reports of the laboratories on their preferred list. They collected a random sample and\n",
    "recorded TAT for reports of 4 laboratories. TAT is defined as sample collected to report dispatch.\n",
    "   \n",
    "Analyze the data and determine whether there is any difference in average TAT\n",
    "among the different laboratories at 5% significance level.\n"
   ]
  },
  {
   "cell_type": "code",
   "execution_count": 38,
   "id": "ad4347d2",
   "metadata": {
    "ExecuteTime": {
     "end_time": "2023-02-07T15:25:38.830775Z",
     "start_time": "2023-02-07T15:25:38.429749Z"
    }
   },
   "outputs": [
    {
     "data": {
      "text/html": [
       "<div>\n",
       "<style scoped>\n",
       "    .dataframe tbody tr th:only-of-type {\n",
       "        vertical-align: middle;\n",
       "    }\n",
       "\n",
       "    .dataframe tbody tr th {\n",
       "        vertical-align: top;\n",
       "    }\n",
       "\n",
       "    .dataframe thead th {\n",
       "        text-align: right;\n",
       "    }\n",
       "</style>\n",
       "<table border=\"1\" class=\"dataframe\">\n",
       "  <thead>\n",
       "    <tr style=\"text-align: right;\">\n",
       "      <th></th>\n",
       "      <th>Laboratory 1</th>\n",
       "      <th>Laboratory 2</th>\n",
       "      <th>Laboratory 3</th>\n",
       "      <th>Laboratory 4</th>\n",
       "    </tr>\n",
       "  </thead>\n",
       "  <tbody>\n",
       "    <tr>\n",
       "      <th>0</th>\n",
       "      <td>185.35</td>\n",
       "      <td>165.53</td>\n",
       "      <td>176.70</td>\n",
       "      <td>166.13</td>\n",
       "    </tr>\n",
       "    <tr>\n",
       "      <th>1</th>\n",
       "      <td>170.49</td>\n",
       "      <td>185.91</td>\n",
       "      <td>198.45</td>\n",
       "      <td>160.79</td>\n",
       "    </tr>\n",
       "    <tr>\n",
       "      <th>2</th>\n",
       "      <td>192.77</td>\n",
       "      <td>194.92</td>\n",
       "      <td>201.23</td>\n",
       "      <td>185.18</td>\n",
       "    </tr>\n",
       "    <tr>\n",
       "      <th>3</th>\n",
       "      <td>177.33</td>\n",
       "      <td>183.00</td>\n",
       "      <td>199.61</td>\n",
       "      <td>176.42</td>\n",
       "    </tr>\n",
       "    <tr>\n",
       "      <th>4</th>\n",
       "      <td>193.41</td>\n",
       "      <td>169.57</td>\n",
       "      <td>204.63</td>\n",
       "      <td>152.60</td>\n",
       "    </tr>\n",
       "  </tbody>\n",
       "</table>\n",
       "</div>"
      ],
      "text/plain": [
       "   Laboratory 1  Laboratory 2  Laboratory 3  Laboratory 4\n",
       "0        185.35        165.53        176.70        166.13\n",
       "1        170.49        185.91        198.45        160.79\n",
       "2        192.77        194.92        201.23        185.18\n",
       "3        177.33        183.00        199.61        176.42\n",
       "4        193.41        169.57        204.63        152.60"
      ]
     },
     "execution_count": 38,
     "metadata": {},
     "output_type": "execute_result"
    }
   ],
   "source": [
    "data1=pd.read_csv(r\"C:\\Users\\MS_More\\Desktop\\Data Science\\Materials\\A3\\LabTAT.csv\")\n",
    "data1.head()"
   ]
  },
  {
   "cell_type": "code",
   "execution_count": 39,
   "id": "2b4457bc",
   "metadata": {
    "ExecuteTime": {
     "end_time": "2023-02-07T15:25:56.913463Z",
     "start_time": "2023-02-07T15:25:56.896661Z"
    }
   },
   "outputs": [
    {
     "data": {
      "text/plain": [
       "(120, 4)"
      ]
     },
     "execution_count": 39,
     "metadata": {},
     "output_type": "execute_result"
    }
   ],
   "source": [
    "data1.shape"
   ]
  },
  {
   "cell_type": "code",
   "execution_count": 42,
   "id": "c7969361",
   "metadata": {
    "ExecuteTime": {
     "end_time": "2023-02-07T15:26:30.893303Z",
     "start_time": "2023-02-07T15:26:30.344503Z"
    }
   },
   "outputs": [
    {
     "data": {
      "text/html": [
       "<div>\n",
       "<style scoped>\n",
       "    .dataframe tbody tr th:only-of-type {\n",
       "        vertical-align: middle;\n",
       "    }\n",
       "\n",
       "    .dataframe tbody tr th {\n",
       "        vertical-align: top;\n",
       "    }\n",
       "\n",
       "    .dataframe thead th {\n",
       "        text-align: right;\n",
       "    }\n",
       "</style>\n",
       "<table border=\"1\" class=\"dataframe\">\n",
       "  <thead>\n",
       "    <tr style=\"text-align: right;\">\n",
       "      <th></th>\n",
       "      <th>Laboratory 1</th>\n",
       "      <th>Laboratory 2</th>\n",
       "      <th>Laboratory 3</th>\n",
       "      <th>Laboratory 4</th>\n",
       "    </tr>\n",
       "  </thead>\n",
       "  <tbody>\n",
       "    <tr>\n",
       "      <th>count</th>\n",
       "      <td>120.000000</td>\n",
       "      <td>120.000000</td>\n",
       "      <td>120.000000</td>\n",
       "      <td>120.00000</td>\n",
       "    </tr>\n",
       "    <tr>\n",
       "      <th>mean</th>\n",
       "      <td>178.361583</td>\n",
       "      <td>178.902917</td>\n",
       "      <td>199.913250</td>\n",
       "      <td>163.68275</td>\n",
       "    </tr>\n",
       "    <tr>\n",
       "      <th>std</th>\n",
       "      <td>13.173594</td>\n",
       "      <td>14.957114</td>\n",
       "      <td>16.539033</td>\n",
       "      <td>15.08508</td>\n",
       "    </tr>\n",
       "    <tr>\n",
       "      <th>min</th>\n",
       "      <td>138.300000</td>\n",
       "      <td>140.550000</td>\n",
       "      <td>159.690000</td>\n",
       "      <td>124.06000</td>\n",
       "    </tr>\n",
       "    <tr>\n",
       "      <th>25%</th>\n",
       "      <td>170.335000</td>\n",
       "      <td>168.025000</td>\n",
       "      <td>188.232500</td>\n",
       "      <td>154.05000</td>\n",
       "    </tr>\n",
       "    <tr>\n",
       "      <th>50%</th>\n",
       "      <td>178.530000</td>\n",
       "      <td>178.870000</td>\n",
       "      <td>199.805000</td>\n",
       "      <td>164.42500</td>\n",
       "    </tr>\n",
       "    <tr>\n",
       "      <th>75%</th>\n",
       "      <td>186.535000</td>\n",
       "      <td>189.112500</td>\n",
       "      <td>211.332500</td>\n",
       "      <td>172.88250</td>\n",
       "    </tr>\n",
       "    <tr>\n",
       "      <th>max</th>\n",
       "      <td>216.390000</td>\n",
       "      <td>217.860000</td>\n",
       "      <td>238.700000</td>\n",
       "      <td>205.18000</td>\n",
       "    </tr>\n",
       "  </tbody>\n",
       "</table>\n",
       "</div>"
      ],
      "text/plain": [
       "       Laboratory 1  Laboratory 2  Laboratory 3  Laboratory 4\n",
       "count    120.000000    120.000000    120.000000     120.00000\n",
       "mean     178.361583    178.902917    199.913250     163.68275\n",
       "std       13.173594     14.957114     16.539033      15.08508\n",
       "min      138.300000    140.550000    159.690000     124.06000\n",
       "25%      170.335000    168.025000    188.232500     154.05000\n",
       "50%      178.530000    178.870000    199.805000     164.42500\n",
       "75%      186.535000    189.112500    211.332500     172.88250\n",
       "max      216.390000    217.860000    238.700000     205.18000"
      ]
     },
     "execution_count": 42,
     "metadata": {},
     "output_type": "execute_result"
    }
   ],
   "source": [
    "data1.describe()"
   ]
  },
  {
   "cell_type": "code",
   "execution_count": 43,
   "id": "e97054d5",
   "metadata": {
    "ExecuteTime": {
     "end_time": "2023-02-07T15:26:59.257513Z",
     "start_time": "2023-02-07T15:26:59.148647Z"
    }
   },
   "outputs": [
    {
     "data": {
      "text/plain": [
       "Laboratory 1    0\n",
       "Laboratory 2    0\n",
       "Laboratory 3    0\n",
       "Laboratory 4    0\n",
       "dtype: int64"
      ]
     },
     "execution_count": 43,
     "metadata": {},
     "output_type": "execute_result"
    }
   ],
   "source": [
    "data1.isnull().sum()"
   ]
  },
  {
   "cell_type": "code",
   "execution_count": 46,
   "id": "9607cd17",
   "metadata": {
    "ExecuteTime": {
     "end_time": "2023-02-07T15:28:12.646689Z",
     "start_time": "2023-02-07T15:28:12.396587Z"
    }
   },
   "outputs": [
    {
     "name": "stdout",
     "output_type": "stream",
     "text": [
      "p_value = 2.1156708949992414e-57\n"
     ]
    }
   ],
   "source": [
    "test_statistic , p_value = stats.f_oneway(data1.iloc[:,0],data1.iloc[:,1],data1.iloc[:,2],data1.iloc[:,3])\n",
    "print('p_value =',p_value)"
   ]
  },
  {
   "cell_type": "code",
   "execution_count": 50,
   "id": "22d028ec",
   "metadata": {
    "ExecuteTime": {
     "end_time": "2023-02-07T15:29:31.697165Z",
     "start_time": "2023-02-07T15:29:31.675213Z"
    }
   },
   "outputs": [
    {
     "name": "stdout",
     "output_type": "stream",
     "text": [
      "Significnace=0.050, p=0.000\n",
      "We reject Null Hypothesis and there is a significance difference between TAT of reports of the laboratories\n"
     ]
    }
   ],
   "source": [
    "alpha = 0.05\n",
    "print('Significnace=%.3f, p=%.3f' % (alpha, p_value))\n",
    "if p_value <= alpha:\n",
    "    print('We reject Null Hypothesis and there is a significance difference between TAT of reports of the laboratories')\n",
    "else:\n",
    "    print('We fail to reject Null hypothesis')"
   ]
  },
  {
   "cell_type": "code",
   "execution_count": null,
   "id": "70690eac",
   "metadata": {},
   "outputs": [],
   "source": [
    "[BuyerRatio.csv]\n",
    "Sales of products in four different regions is tabulated for males and females. \n",
    "Find if male-female buyer rations are similar across regions."
   ]
  },
  {
   "cell_type": "code",
   "execution_count": 58,
   "id": "5442ad4d",
   "metadata": {
    "ExecuteTime": {
     "end_time": "2023-02-07T15:41:04.234550Z",
     "start_time": "2023-02-07T15:41:04.200308Z"
    }
   },
   "outputs": [
    {
     "data": {
      "text/html": [
       "<div>\n",
       "<style scoped>\n",
       "    .dataframe tbody tr th:only-of-type {\n",
       "        vertical-align: middle;\n",
       "    }\n",
       "\n",
       "    .dataframe tbody tr th {\n",
       "        vertical-align: top;\n",
       "    }\n",
       "\n",
       "    .dataframe thead th {\n",
       "        text-align: right;\n",
       "    }\n",
       "</style>\n",
       "<table border=\"1\" class=\"dataframe\">\n",
       "  <thead>\n",
       "    <tr style=\"text-align: right;\">\n",
       "      <th></th>\n",
       "      <th>Observed Values</th>\n",
       "      <th>East</th>\n",
       "      <th>West</th>\n",
       "      <th>North</th>\n",
       "      <th>South</th>\n",
       "    </tr>\n",
       "  </thead>\n",
       "  <tbody>\n",
       "    <tr>\n",
       "      <th>0</th>\n",
       "      <td>Males</td>\n",
       "      <td>50</td>\n",
       "      <td>142</td>\n",
       "      <td>131</td>\n",
       "      <td>70</td>\n",
       "    </tr>\n",
       "    <tr>\n",
       "      <th>1</th>\n",
       "      <td>Females</td>\n",
       "      <td>435</td>\n",
       "      <td>1523</td>\n",
       "      <td>1356</td>\n",
       "      <td>750</td>\n",
       "    </tr>\n",
       "  </tbody>\n",
       "</table>\n",
       "</div>"
      ],
      "text/plain": [
       "  Observed Values  East  West  North  South\n",
       "0           Males    50   142    131     70\n",
       "1         Females   435  1523   1356    750"
      ]
     },
     "execution_count": 58,
     "metadata": {},
     "output_type": "execute_result"
    }
   ],
   "source": [
    "data2=pd.read_csv(r\"C:\\Users\\MS_More\\Desktop\\Data Science\\Materials\\A3\\BuyerRatio.csv\")\n",
    "data2.head()"
   ]
  },
  {
   "cell_type": "code",
   "execution_count": 59,
   "id": "fe64ccc1",
   "metadata": {
    "ExecuteTime": {
     "end_time": "2023-02-07T15:42:19.465907Z",
     "start_time": "2023-02-07T15:42:19.211605Z"
    }
   },
   "outputs": [
    {
     "data": {
      "text/plain": [
       "array([[  50,  142,  131,   70],\n",
       "       [ 435, 1523, 1356,  750]])"
      ]
     },
     "execution_count": 59,
     "metadata": {},
     "output_type": "execute_result"
    }
   ],
   "source": [
    "data2 = np.array([[50,142,131,70],\n",
    "                [435,1523,1356,750]])\n",
    "data2"
   ]
  },
  {
   "cell_type": "code",
   "execution_count": 60,
   "id": "c75ce067",
   "metadata": {
    "ExecuteTime": {
     "end_time": "2023-02-07T15:42:44.156555Z",
     "start_time": "2023-02-07T15:42:44.085638Z"
    }
   },
   "outputs": [],
   "source": [
    "observed = np.array([50, 142, 131, 70, 435, 1523, 1356, 750])\n",
    "expected = np.array([42.76531299,  146.81287862,  131.11756787, 72.30424052, 442.23468701, 1518.18712138, 1355.88243213, 747.69575948])"
   ]
  },
  {
   "cell_type": "code",
   "execution_count": 61,
   "id": "b0815f7e",
   "metadata": {
    "ExecuteTime": {
     "end_time": "2023-02-07T15:43:12.755173Z",
     "start_time": "2023-02-07T15:43:12.416676Z"
    }
   },
   "outputs": [
    {
     "name": "stdout",
     "output_type": "stream",
     "text": [
      "Statistics =  1.5959455390914483 \n",
      " P_Value =  0.8095206646905712\n"
     ]
    }
   ],
   "source": [
    "statistics, p_value = stats.chisquare(observed, expected, ddof = 3)\n",
    "print(\"Statistics = \",statistics,\"\\n\",'P_Value = ', p_value)"
   ]
  },
  {
   "cell_type": "code",
   "execution_count": 62,
   "id": "a38c146b",
   "metadata": {
    "ExecuteTime": {
     "end_time": "2023-02-07T15:43:32.386795Z",
     "start_time": "2023-02-07T15:43:32.372981Z"
    }
   },
   "outputs": [
    {
     "name": "stdout",
     "output_type": "stream",
     "text": [
      "Significnace=0.050, p=0.810\n",
      "We fail to reject Null hypothesis\n"
     ]
    }
   ],
   "source": [
    "alpha = 0.05\n",
    "print('Significnace=%.3f, p=%.3f' % (alpha, p_value))\n",
    "if p_value <= alpha:\n",
    "    print('We reject Null Hypothesis there is a significance difference between TAT of reports of the laboratories')\n",
    "else:\n",
    "    print('We fail to reject Null hypothesis')"
   ]
  },
  {
   "cell_type": "code",
   "execution_count": null,
   "id": "62dadb6c",
   "metadata": {},
   "outputs": [],
   "source": [
    "[Costomer+OderForm.csv]\n",
    "TeleCall uses 4 centers around the globe to process customer order forms. \n",
    "They audit a certain %  of the customer order forms. Any error in order form renders \n",
    "it defective and has to be reworked before processing.\n",
    "The manager wants to check whether the defective %  varies by centre. \n",
    "Please analyze the data at 5% significance level and help the manager draw appropriate inferences\n"
   ]
  },
  {
   "cell_type": "code",
   "execution_count": 65,
   "id": "36bd9295",
   "metadata": {
    "ExecuteTime": {
     "end_time": "2023-02-07T15:53:15.383403Z",
     "start_time": "2023-02-07T15:53:15.341061Z"
    }
   },
   "outputs": [
    {
     "data": {
      "text/html": [
       "<div>\n",
       "<style scoped>\n",
       "    .dataframe tbody tr th:only-of-type {\n",
       "        vertical-align: middle;\n",
       "    }\n",
       "\n",
       "    .dataframe tbody tr th {\n",
       "        vertical-align: top;\n",
       "    }\n",
       "\n",
       "    .dataframe thead th {\n",
       "        text-align: right;\n",
       "    }\n",
       "</style>\n",
       "<table border=\"1\" class=\"dataframe\">\n",
       "  <thead>\n",
       "    <tr style=\"text-align: right;\">\n",
       "      <th></th>\n",
       "      <th>Phillippines</th>\n",
       "      <th>Indonesia</th>\n",
       "      <th>Malta</th>\n",
       "      <th>India</th>\n",
       "    </tr>\n",
       "  </thead>\n",
       "  <tbody>\n",
       "    <tr>\n",
       "      <th>0</th>\n",
       "      <td>Error Free</td>\n",
       "      <td>Error Free</td>\n",
       "      <td>Defective</td>\n",
       "      <td>Error Free</td>\n",
       "    </tr>\n",
       "    <tr>\n",
       "      <th>1</th>\n",
       "      <td>Error Free</td>\n",
       "      <td>Error Free</td>\n",
       "      <td>Error Free</td>\n",
       "      <td>Defective</td>\n",
       "    </tr>\n",
       "    <tr>\n",
       "      <th>2</th>\n",
       "      <td>Error Free</td>\n",
       "      <td>Defective</td>\n",
       "      <td>Defective</td>\n",
       "      <td>Error Free</td>\n",
       "    </tr>\n",
       "    <tr>\n",
       "      <th>3</th>\n",
       "      <td>Error Free</td>\n",
       "      <td>Error Free</td>\n",
       "      <td>Error Free</td>\n",
       "      <td>Error Free</td>\n",
       "    </tr>\n",
       "    <tr>\n",
       "      <th>4</th>\n",
       "      <td>Error Free</td>\n",
       "      <td>Error Free</td>\n",
       "      <td>Defective</td>\n",
       "      <td>Error Free</td>\n",
       "    </tr>\n",
       "  </tbody>\n",
       "</table>\n",
       "</div>"
      ],
      "text/plain": [
       "  Phillippines   Indonesia       Malta       India\n",
       "0   Error Free  Error Free   Defective  Error Free\n",
       "1   Error Free  Error Free  Error Free   Defective\n",
       "2   Error Free   Defective   Defective  Error Free\n",
       "3   Error Free  Error Free  Error Free  Error Free\n",
       "4   Error Free  Error Free   Defective  Error Free"
      ]
     },
     "execution_count": 65,
     "metadata": {},
     "output_type": "execute_result"
    }
   ],
   "source": [
    "data3=pd.read_csv(r\"C:\\Users\\MS_More\\Desktop\\Data Science\\Materials\\A3\\Costomer+OrderForm.csv\")\n",
    "data3.head()"
   ]
  },
  {
   "cell_type": "code",
   "execution_count": 68,
   "id": "1edfc531",
   "metadata": {
    "ExecuteTime": {
     "end_time": "2023-02-07T15:54:20.617025Z",
     "start_time": "2023-02-07T15:54:20.341438Z"
    }
   },
   "outputs": [
    {
     "data": {
      "text/html": [
       "<div>\n",
       "<style scoped>\n",
       "    .dataframe tbody tr th:only-of-type {\n",
       "        vertical-align: middle;\n",
       "    }\n",
       "\n",
       "    .dataframe tbody tr th {\n",
       "        vertical-align: top;\n",
       "    }\n",
       "\n",
       "    .dataframe thead th {\n",
       "        text-align: right;\n",
       "    }\n",
       "</style>\n",
       "<table border=\"1\" class=\"dataframe\">\n",
       "  <thead>\n",
       "    <tr style=\"text-align: right;\">\n",
       "      <th></th>\n",
       "      <th>Phillippines</th>\n",
       "      <th>Indonesia</th>\n",
       "      <th>Malta</th>\n",
       "      <th>India</th>\n",
       "    </tr>\n",
       "  </thead>\n",
       "  <tbody>\n",
       "    <tr>\n",
       "      <th>count</th>\n",
       "      <td>300</td>\n",
       "      <td>300</td>\n",
       "      <td>300</td>\n",
       "      <td>300</td>\n",
       "    </tr>\n",
       "    <tr>\n",
       "      <th>unique</th>\n",
       "      <td>2</td>\n",
       "      <td>2</td>\n",
       "      <td>2</td>\n",
       "      <td>2</td>\n",
       "    </tr>\n",
       "    <tr>\n",
       "      <th>top</th>\n",
       "      <td>Error Free</td>\n",
       "      <td>Error Free</td>\n",
       "      <td>Error Free</td>\n",
       "      <td>Error Free</td>\n",
       "    </tr>\n",
       "    <tr>\n",
       "      <th>freq</th>\n",
       "      <td>271</td>\n",
       "      <td>267</td>\n",
       "      <td>269</td>\n",
       "      <td>280</td>\n",
       "    </tr>\n",
       "  </tbody>\n",
       "</table>\n",
       "</div>"
      ],
      "text/plain": [
       "       Phillippines   Indonesia       Malta       India\n",
       "count           300         300         300         300\n",
       "unique            2           2           2           2\n",
       "top      Error Free  Error Free  Error Free  Error Free\n",
       "freq            271         267         269         280"
      ]
     },
     "execution_count": 68,
     "metadata": {},
     "output_type": "execute_result"
    }
   ],
   "source": [
    "data3.describe()"
   ]
  },
  {
   "cell_type": "code",
   "execution_count": 70,
   "id": "b4afafa5",
   "metadata": {
    "ExecuteTime": {
     "end_time": "2023-02-07T15:55:08.893392Z",
     "start_time": "2023-02-07T15:55:08.838539Z"
    }
   },
   "outputs": [
    {
     "name": "stdout",
     "output_type": "stream",
     "text": [
      "Error Free    271\n",
      "Defective      29\n",
      "Name: Phillippines, dtype: int64\n",
      "Error Free    267\n",
      "Defective      33\n",
      "Name: Indonesia, dtype: int64\n",
      "Error Free    269\n",
      "Defective      31\n",
      "Name: Malta, dtype: int64\n",
      "Error Free    280\n",
      "Defective      20\n",
      "Name: India, dtype: int64\n"
     ]
    }
   ],
   "source": [
    "Phillippines_value=data3['Phillippines'].value_counts()\n",
    "Indonesia_value=data3['Indonesia'].value_counts()\n",
    "Malta_value=data3['Malta'].value_counts()\n",
    "India_value=data3['India'].value_counts()\n",
    "print(Phillippines_value)\n",
    "print(Indonesia_value)\n",
    "print(Malta_value)\n",
    "print(India_value)"
   ]
  },
  {
   "cell_type": "code",
   "execution_count": 71,
   "id": "253764f2",
   "metadata": {
    "ExecuteTime": {
     "end_time": "2023-02-07T15:55:45.616688Z",
     "start_time": "2023-02-07T15:55:45.495239Z"
    }
   },
   "outputs": [
    {
     "name": "stdout",
     "output_type": "stream",
     "text": [
      "Test t=3.858961 p-value=0.277102\n",
      "Interpret by p-Value\n",
      "we accept null hypothesis\n"
     ]
    }
   ],
   "source": [
    "chiStats = sp.stats.chi2_contingency([[271,267,269,280],[29,33,31,20]])\n",
    "print('Test t=%f p-value=%f' % (chiStats[0], chiStats[1]))\n",
    "print('Interpret by p-Value')\n",
    "if chiStats[1] < 0.05:\n",
    "  print('we reject null hypothesis')\n",
    "else:\n",
    "  print('we accept null hypothesis')"
   ]
  },
  {
   "cell_type": "code",
   "execution_count": 72,
   "id": "85f62973",
   "metadata": {
    "ExecuteTime": {
     "end_time": "2023-02-07T15:56:06.786603Z",
     "start_time": "2023-02-07T15:56:06.694237Z"
    }
   },
   "outputs": [
    {
     "name": "stdout",
     "output_type": "stream",
     "text": [
      "Interpret by critical value\n",
      "Null hypothesis cannot be rejected (variables are not related)\n"
     ]
    }
   ],
   "source": [
    "alpha = 0.05\n",
    "critical_value = sp.stats.chi2.ppf(q = 1 - alpha,df=chiStats[2])\n",
    "observed_chi_val = chiStats[0]\n",
    "print('Interpret by critical value')\n",
    "if observed_chi_val <= critical_value:\n",
    "       print ('Null hypothesis cannot be rejected (variables are not related)')\n",
    "else:\n",
    "       print ('Null hypothesis cannot be excepted (variables are not independent)')"
   ]
  },
  {
   "cell_type": "code",
   "execution_count": null,
   "id": "09946b82",
   "metadata": {},
   "outputs": [],
   "source": []
  },
  {
   "cell_type": "code",
   "execution_count": null,
   "id": "c9b30e1c",
   "metadata": {},
   "outputs": [],
   "source": []
  },
  {
   "cell_type": "code",
   "execution_count": null,
   "id": "e1efed0f",
   "metadata": {},
   "outputs": [],
   "source": []
  },
  {
   "cell_type": "code",
   "execution_count": null,
   "id": "ca314248",
   "metadata": {},
   "outputs": [],
   "source": []
  },
  {
   "cell_type": "code",
   "execution_count": null,
   "id": "88aad75f",
   "metadata": {},
   "outputs": [],
   "source": []
  }
 ],
 "metadata": {
  "kernelspec": {
   "display_name": "Python 3 (ipykernel)",
   "language": "python",
   "name": "python3"
  },
  "language_info": {
   "codemirror_mode": {
    "name": "ipython",
    "version": 3
   },
   "file_extension": ".py",
   "mimetype": "text/x-python",
   "name": "python",
   "nbconvert_exporter": "python",
   "pygments_lexer": "ipython3",
   "version": "3.9.13"
  }
 },
 "nbformat": 4,
 "nbformat_minor": 5
}
